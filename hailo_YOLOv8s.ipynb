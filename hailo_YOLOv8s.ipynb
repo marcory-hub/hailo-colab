{
  "nbformat": 4,
  "nbformat_minor": 0,
  "metadata": {
    "colab": {
      "provenance": [],
      "mount_file_id": "15y_VqdKMYqDqOaeD4N0QyhPVWBPamlZg",
      "authorship_tag": "ABX9TyNrhBMN/GPrlorkD1EXInsy",
      "include_colab_link": true
    },
    "kernelspec": {
      "name": "python3",
      "display_name": "Python 3"
    },
    "language_info": {
      "name": "python"
    }
  },
  "cells": [
    {
      "cell_type": "markdown",
      "metadata": {
        "id": "view-in-github",
        "colab_type": "text"
      },
      "source": [
        "<a href=\"https://colab.research.google.com/github/marcory-hub/hailo-colab/blob/main/hailo_YOLOv8s.ipynb\" target=\"_parent\"><img src=\"https://colab.research.google.com/assets/colab-badge.svg\" alt=\"Open In Colab\"/></a>"
      ]
    },
    {
      "cell_type": "markdown",
      "source": [
        "1. Mount your Google Drive."
      ],
      "metadata": {
        "id": "AHoqKf_x9L86"
      }
    },
    {
      "cell_type": "code",
      "execution_count": null,
      "metadata": {
        "id": "tqo8tLtHAjiD"
      },
      "outputs": [],
      "source": [
        "# Mount Google Drive\n",
        "\n",
        "from google.colab import drive\n",
        "\n",
        "drive.mount('/content/gdrive')"
      ]
    },
    {
      "cell_type": "markdown",
      "source": [
        "2. (Optional) Check GPU"
      ],
      "metadata": {
        "id": "tHi8AHML9VhZ"
      }
    },
    {
      "cell_type": "code",
      "source": [
        "# Check GPU (make sure runtimetype GPU (T4 or A100) is selected)\n",
        "# If 'command not found' then change the runtimetype (click 'Runtime' and select change runtimetype in the drop down menu)\n",
        "\n",
        "!nvidia-smi"
      ],
      "metadata": {
        "id": "v10EkpTWAzcv",
        "collapsed": true
      },
      "execution_count": null,
      "outputs": []
    },
    {
      "cell_type": "markdown",
      "source": [
        "3. Copy data.zip to Colab file system and unzip."
      ],
      "metadata": {
        "id": "_EpQpqQJ9b3i"
      }
    },
    {
      "cell_type": "code",
      "source": [
        "# Prepare data\n",
        "\n",
        "dataset = '/content/gdrive/MyDrive/hailo/vespA_combined2024.zip' # @param {type:'string'}\n",
        "\n",
        "!scp {dataset} '/content/dataset.zip'\n",
        "\n",
        "!unzip '/content/dataset.zip'\n",
        "!rm '/content/dataset.zip'"
      ],
      "metadata": {
        "id": "dzksqg4LBEpa",
        "collapsed": true
      },
      "execution_count": null,
      "outputs": []
    },
    {
      "cell_type": "markdown",
      "source": [
        "4. If the name of the folder with the data is not `dataset` then rename it."
      ],
      "metadata": {
        "id": "4xmWC4k--UUp"
      }
    },
    {
      "cell_type": "code",
      "source": [
        "import os\n",
        "\n",
        "# Rename the extracted folder to dataset\n",
        "foldername = \"/content/vespA_combined2024\" # @param {type:'string'}\n",
        "new_path = '/content/dataset'\n",
        "os.rename(foldername, new_path)"
      ],
      "metadata": {
        "id": "mQfrcgQQ0jVY"
      },
      "execution_count": null,
      "outputs": []
    },
    {
      "cell_type": "markdown",
      "source": [
        "5. Check if folderstructure is correct. The output should be:\n",
        "```\n",
        "data.yaml  test  train\tvalid\n",
        "images\tlabels\n",
        "images\tlabels\n",
        "```"
      ],
      "metadata": {
        "id": "B9yyfcbN12Al"
      }
    },
    {
      "cell_type": "code",
      "source": [
        "# Check is path is correct\n",
        "\n",
        "#  output should be\n",
        "#     train val\n",
        "#     images labels\n",
        "#     dataset.yaml data.zip\n",
        "\n",
        "# If not, change your datastructure as described under 1.\n",
        "\n",
        "!ls '/content/dataset/'\n",
        "\n",
        "!ls '/content/dataset/train/'\n",
        "\n",
        "!ls '/content/dataset/valid/'\n",
        "\n"
      ],
      "metadata": {
        "id": "-IPvW8o5Ps2N"
      },
      "execution_count": null,
      "outputs": []
    },
    {
      "cell_type": "markdown",
      "source": [
        "6. Install libraries and train the model"
      ],
      "metadata": {
        "id": "nRU0VsSi-k0q"
      }
    },
    {
      "cell_type": "code",
      "source": [
        "#Installing ultralytics and wandb\n",
        "!pip install -U ultralytics wandb"
      ],
      "metadata": {
        "id": "JuIVwb6gBqiq"
      },
      "execution_count": null,
      "outputs": []
    },
    {
      "cell_type": "markdown",
      "source": [
        "7. (Optional) Track with Weights and Biases.\n",
        "\n",
        "  Ultralytics YOLO11 integration with Weights & Biases for enhanced experiment tracking, model-checkpointing, and visualization of model performance. For more information click Weights and Biasis\n",
        "\n",
        "  Make account and a project in W&B.\n",
        "  Store your API key in the Secrets in Google Colab In your Colab notebook, click the key icon in the left sidebar (this is the secrets manager).\n",
        "  Add a secret with the name WANDB_API_KEY and paste your WandB API key as its value. You can find your api key here."
      ],
      "metadata": {
        "id": "n2fj-9hk2V4t"
      }
    },
    {
      "cell_type": "code",
      "source": [
        "import wandb\n",
        "from ultralytics import YOLO\n",
        "from google.colab import userdata\n",
        "\n",
        "# Retrieve the API key from Colab secrets\n",
        "wandb_api_key = userdata.get('WANDB_API_KEY')\n",
        "\n",
        "# Initialize your Weights & Biases environment\n",
        "wandb.login(key=wandb_api_key)"
      ],
      "metadata": {
        "id": "JL6zoxSn2UCb"
      },
      "execution_count": null,
      "outputs": []
    },
    {
      "cell_type": "markdown",
      "source": [
        "8. Train the model.\n"
      ],
      "metadata": {
        "id": "rQsAVT2t2fI3"
      }
    },
    {
      "cell_type": "code",
      "source": [
        "from ultralytics import YOLO\n",
        "\n",
        "# Load a model\n",
        "model = YOLO(\"yolov8s.pt\")  # load a pretained model (choose yolov8n for the smallest model)\n",
        "\n",
        "# Train and Fine-Tune the Model\n",
        "model.train(data=\"/content/dataset/data.yaml\",\n",
        "            epochs=200,\n",
        "            batch=-1,\n",
        "            patience=20,\n",
        "            project=\"ultralytics\",\n",
        "            name=\"yolov8s\"\n",
        "            )"
      ],
      "metadata": {
        "id": "nAUMVQA1RuZ2"
      },
      "execution_count": null,
      "outputs": []
    },
    {
      "cell_type": "markdown",
      "source": [
        "9. Export the model in ONNX format."
      ],
      "metadata": {
        "id": "UIRlPuiKAKTd"
      }
    },
    {
      "cell_type": "code",
      "source": [
        "!pip install onnx\n",
        "\n",
        "import onnx\n",
        "\n",
        "weights_path = \"/content/gdrive/MyDrive/hailo/best.onnx\"  # @param {type:\"string\"}\n",
        "\n",
        "# Export the model in ONNX format IR_version 9 (adjust IR version if needed)\n",
        "\n",
        "# Load the ONNX model\n",
        "model = onnx.load(weights_path)\n",
        "\n",
        "# Change the IR version to 9\n",
        "model.ir_version = 9\n",
        "\n",
        "# Save the modified model\n",
        "onnx.save(model, \"bestIR9.onnx\")\n",
        "\n",
        "print(\"Model IR version changed to 9 and saved as bestIR9.onnx\")\n"
      ],
      "metadata": {
        "id": "u2ggKHganVor"
      },
      "execution_count": null,
      "outputs": []
    },
    {
      "cell_type": "markdown",
      "source": [
        "10. Zip and Download the results to your local computer\n",
        "\n",
        "  ---=== Data is lost when closing the page!!! ===---\n",
        "\n",
        "## If an error occurs:\n",
        "1. Click `Runtime` in the toolbar on the top\n",
        "2. Select `stop session` / `uitvoering onderbreken` from the drop down menu\n",
        "3. Run this codeblock again with `Restart session` / `Sessie opnieuw starten`"
      ],
      "metadata": {
        "id": "E63Hr9A8CVft"
      }
    },
    {
      "cell_type": "code",
      "source": [
        "# DON'T FORGET TO DOWNLOAD THE RESULTS!!!\n",
        "\n",
        "# Data is lost when closing the page!!!\n",
        "\n",
        "# IN MOST CASES AN ERROR OCCURS:\n",
        "# Click `Runtime`, select `Restart session` / `Sessie opnieuw opstarten`\n",
        "# then run this codeblock again\n",
        "\n",
        "from google.colab import files\n",
        "\n",
        "try:\n",
        "  !zip -r /content/runs.zip /content/ultralytics/\n",
        "  files.download('/content/yolov8sModel.zip')\n",
        "except Exception as e:\n",
        "  print(f\"An error occurred: {e}\")\n",
        "  print(\"Click 'Runtime' -> 'Restart session' and try running the code again.\")"
      ],
      "metadata": {
        "id": "GV9nv0PmCxgF"
      },
      "execution_count": null,
      "outputs": []
    }
  ]
}